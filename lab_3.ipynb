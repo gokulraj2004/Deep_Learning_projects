{
  "nbformat": 4,
  "nbformat_minor": 0,
  "metadata": {
    "colab": {
      "provenance": [],
      "authorship_tag": "ABX9TyMGmB62NghBWw2iSQbnfyi8",
      "include_colab_link": true
    },
    "kernelspec": {
      "name": "python3",
      "display_name": "Python 3"
    },
    "language_info": {
      "name": "python"
    }
  },
  "cells": [
    {
      "cell_type": "markdown",
      "metadata": {
        "id": "view-in-github",
        "colab_type": "text"
      },
      "source": [
        "<a href=\"https://colab.research.google.com/github/gokulraj2004/Deep_Learning_projects/blob/main/lab_3.ipynb\" target=\"_parent\"><img src=\"https://colab.research.google.com/assets/colab-badge.svg\" alt=\"Open In Colab\"/></a>"
      ]
    },
    {
      "cell_type": "code",
      "execution_count": 1,
      "metadata": {
        "id": "yWNcOs3QdSOa"
      },
      "outputs": [],
      "source": [
        "import torch\n",
        "from  torch import"
      ]
    },
    {
      "cell_type": "code",
      "source": [
        "def dropout_layer(x,dropout):\n",
        "  assert 0<= dropout <=1\n",
        "  if dropout==1: return torch.zeros_like(x)\n",
        "  mask=(torch.rand(X.shape)>dropout).float()\n",
        "  return mask*X/(1.0-dropout)"
      ],
      "metadata": {
        "id": "n-oAIswsdiS4"
      },
      "execution_count": 3,
      "outputs": []
    },
    {
      "cell_type": "code",
      "source": [
        "X=torch.arange(16,dtype=torch.float32).reshape((2,8))\n",
        "print(X)\n",
        "print('dropout_p=0:',dropout_layer(X,0))\n",
        "print('dropout_p=0.5:',dropout_layer(X,0.5))\n",
        "print('dropout_p=1:',dropout_layer(X,1))"
      ],
      "metadata": {
        "colab": {
          "base_uri": "https://localhost:8080/"
        },
        "id": "urck2Ha-enIK",
        "outputId": "b06c4a16-ee1f-433c-c84d-ede1339fbd60"
      },
      "execution_count": 4,
      "outputs": [
        {
          "output_type": "stream",
          "name": "stdout",
          "text": [
            "tensor([[ 0.,  1.,  2.,  3.,  4.,  5.,  6.,  7.],\n",
            "        [ 8.,  9., 10., 11., 12., 13., 14., 15.]])\n",
            "dropout_p=0: tensor([[ 0.,  1.,  2.,  3.,  4.,  5.,  6.,  7.],\n",
            "        [ 8.,  9., 10., 11., 12., 13., 14., 15.]])\n",
            "dropout_p=0.5: tensor([[ 0.,  0.,  4.,  0.,  0., 10.,  0., 14.],\n",
            "        [ 0., 18., 20., 22.,  0.,  0.,  0., 30.]])\n",
            "dropout_p=1: tensor([[0., 0., 0., 0., 0., 0., 0., 0.],\n",
            "        [0., 0., 0., 0., 0., 0., 0., 0.]])\n"
          ]
        }
      ]
    }
  ]
}