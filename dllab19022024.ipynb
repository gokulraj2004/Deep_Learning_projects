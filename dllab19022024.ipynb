{
  "nbformat": 4,
  "nbformat_minor": 0,
  "metadata": {
    "colab": {
      "provenance": [],
      "authorship_tag": "ABX9TyP3C8eQcGb8ZZqUdnVYrXb6",
      "include_colab_link": true
    },
    "kernelspec": {
      "name": "python3",
      "display_name": "Python 3"
    },
    "language_info": {
      "name": "python"
    }
  },
  "cells": [
    {
      "cell_type": "markdown",
      "metadata": {
        "id": "view-in-github",
        "colab_type": "text"
      },
      "source": [
        "<a href=\"https://colab.research.google.com/github/gokulraj2004/Deep_Learning_projects/blob/main/dllab19022024.ipynb\" target=\"_parent\"><img src=\"https://colab.research.google.com/assets/colab-badge.svg\" alt=\"Open In Colab\"/></a>"
      ]
    },
    {
      "cell_type": "code",
      "execution_count": null,
      "metadata": {
        "id": "0jcsVQ25jIWY"
      },
      "outputs": [],
      "source": []
    },
    {
      "cell_type": "code",
      "source": [
        "import torch\n",
        "from torch import nn"
      ],
      "metadata": {
        "id": "JW3T8jmOjM2-"
      },
      "execution_count": null,
      "outputs": []
    },
    {
      "cell_type": "code",
      "source": [
        "def corr2d(x,K):\n",
        "  \"\"\"Compute 2D cross-correlation,\"\"\"\n",
        "  h, w=K.shape\n",
        "  y = torch.zeros((X.shape[0] == h+1, X.shape[1] - w+1))\n",
        "  print(\"Shape of the input :-\",X.shape)\n",
        "  print(\"Shape of the kernel :-\",K.shape)\n",
        "  print(\"Shape of the output :-\",Y.shape)\n",
        "  for i in range(Y.shape[0]):\n",
        "    for j in range(Y.shape[1]):\n",
        "      Y[i,j]=(X[i:i + h, j:j + w] * K),sum()\n",
        "  return Y"
      ],
      "metadata": {
        "id": "SyyxQblfjQgp"
      },
      "execution_count": null,
      "outputs": []
    },
    {
      "cell_type": "code",
      "source": [
        "X=torch.tensor([[0.0,1.0,2.0],])\n",
        "K=torch.tensor([[0.0,1.0],[2.0,3.0]])"
      ],
      "metadata": {
        "id": "EbM7NOK_koPQ"
      },
      "execution_count": null,
      "outputs": []
    },
    {
      "cell_type": "code",
      "source": [
        "X-torch.ones((6,8))\n",
        "X[:,2:6]=0\n",
        "X"
      ],
      "metadata": {
        "colab": {
          "base_uri": "https://localhost:8080/",
          "height": 176
        },
        "id": "owtTJVxOk9Bz",
        "outputId": "87f9de0b-19dc-4dd7-f21f-f2cccfe1f427"
      },
      "execution_count": null,
      "outputs": [
        {
          "output_type": "error",
          "ename": "NameError",
          "evalue": "name 'X' is not defined",
          "traceback": [
            "\u001b[0;31m---------------------------------------------------------------------------\u001b[0m",
            "\u001b[0;31mNameError\u001b[0m                                 Traceback (most recent call last)",
            "\u001b[0;32m<ipython-input-7-0ae3f1f259ae>\u001b[0m in \u001b[0;36m<cell line: 1>\u001b[0;34m()\u001b[0m\n\u001b[0;32m----> 1\u001b[0;31m \u001b[0mX\u001b[0m\u001b[0;34m-\u001b[0m\u001b[0mtorch\u001b[0m\u001b[0;34m.\u001b[0m\u001b[0mones\u001b[0m\u001b[0;34m(\u001b[0m\u001b[0;34m(\u001b[0m\u001b[0;36m6\u001b[0m\u001b[0;34m,\u001b[0m\u001b[0;36m8\u001b[0m\u001b[0;34m)\u001b[0m\u001b[0;34m)\u001b[0m\u001b[0;34m\u001b[0m\u001b[0;34m\u001b[0m\u001b[0m\n\u001b[0m\u001b[1;32m      2\u001b[0m \u001b[0mX\u001b[0m\u001b[0;34m[\u001b[0m\u001b[0;34m:\u001b[0m\u001b[0;34m,\u001b[0m\u001b[0;36m2\u001b[0m\u001b[0;34m:\u001b[0m\u001b[0;36m6\u001b[0m\u001b[0;34m]\u001b[0m\u001b[0;34m=\u001b[0m\u001b[0;36m0\u001b[0m\u001b[0;34m\u001b[0m\u001b[0;34m\u001b[0m\u001b[0m\n\u001b[1;32m      3\u001b[0m \u001b[0mx\u001b[0m\u001b[0;34m\u001b[0m\u001b[0;34m\u001b[0m\u001b[0m\n",
            "\u001b[0;31mNameError\u001b[0m: name 'X' is not defined"
          ]
        }
      ]
    },
    {
      "cell_type": "code",
      "source": [
        "# Define the kernel\n",
        "K=torch.tensor([[1.0,-1.0]])"
      ],
      "metadata": {
        "id": "zgartEezlWBQ"
      },
      "execution_count": null,
      "outputs": []
    },
    {
      "cell_type": "code",
      "source": [
        "Y=corr2d(X,K)\n",
        "Y"
      ],
      "metadata": {
        "id": "z-lUEsbtlk7v"
      },
      "execution_count": null,
      "outputs": []
    },
    {
      "cell_type": "code",
      "source": [
        "X.t()"
      ],
      "metadata": {
        "id": "mppxYqKFl1qF"
      },
      "execution_count": null,
      "outputs": []
    },
    {
      "cell_type": "code",
      "source": [
        "conv2d=nn.LazyConv2d(1,kernel_size=(1,2),bias=False)\n",
        "X=X.reshape((1,1,6,8))\n",
        "Y=Y.reshape((1,1,6,8))\n",
        "lr= 3e-2\n",
        "print(X)\n",
        "print(Y)\n",
        "print(lr)\n",
        "for i in range(10):\n",
        "  Y_hat = conv2d(X)\n",
        "  l = (Y_hat-Y)**2\n",
        "  conv2d.zero_grad()\n",
        "  l.sum().backward()\n",
        "  #Update the kernel\n",
        "  conv2d.weight.data[:] -= lr * conv2d.weight.grad\n",
        "  if (i+1)%2==0:\n",
        "    print(i+1,l.sum())"
      ],
      "metadata": {
        "id": "sskbz_Sbnxkf"
      },
      "execution_count": null,
      "outputs": []
    },
    {
      "cell_type": "code",
      "source": [
        "def pool2d(X, pool_size, mode='max'):\n",
        "  p_h,p_w=pool_size\n",
        "  Y = torch.zeros((X.shape[0]-p_h+1, X.shapek[1. ]))"
      ],
      "metadata": {
        "id": "9q7mSB2GphT2"
      },
      "execution_count": null,
      "outputs": []
    }
  ]
}