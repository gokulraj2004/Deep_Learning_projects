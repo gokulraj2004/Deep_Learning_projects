{
  "metadata": {
    "kernelspec": {
      "language": "python",
      "display_name": "Python 3",
      "name": "python3"
    },
    "language_info": {
      "name": "python",
      "version": "3.10.12",
      "mimetype": "text/x-python",
      "codemirror_mode": {
        "name": "ipython",
        "version": 3
      },
      "pygments_lexer": "ipython3",
      "nbconvert_exporter": "python",
      "file_extension": ".py"
    },
    "kaggle": {
      "accelerator": "none",
      "dataSources": [
        {
          "sourceId": 7504289,
          "sourceType": "datasetVersion",
          "datasetId": 4370088
        }
      ],
      "dockerImageVersionId": 30635,
      "isInternetEnabled": true,
      "language": "python",
      "sourceType": "notebook",
      "isGpuEnabled": false
    },
    "colab": {
      "provenance": [],
      "include_colab_link": true
    }
  },
  "nbformat_minor": 0,
  "nbformat": 4,
  "cells": [
    {
      "cell_type": "markdown",
      "metadata": {
        "id": "view-in-github",
        "colab_type": "text"
      },
      "source": [
        "<a href=\"https://colab.research.google.com/github/gokulraj2004/Deep_Learning_projects/blob/main/21bai1175_GOKULRAJ_ANN_model.ipynb\" target=\"_parent\"><img src=\"https://colab.research.google.com/assets/colab-badge.svg\" alt=\"Open In Colab\"/></a>"
      ]
    },
    {
      "cell_type": "code",
      "source": [
        "# This Python 3 environment comes with many helpful analytics libraries installed\n",
        "# It is defined by the kaggle/python Docker image: https://github.com/kaggle/docker-python\n",
        "# For example, here's several helpful packages to load\n",
        "\n",
        "import numpy as np # linear algebra\n",
        "import pandas as pd # data processing, CSV file I/O (e.g. pd.read_csv)\n",
        "\n",
        "# Input data files are available in the read-only \"../input/\" directory\n",
        "# For example, running this (by clicking run or pressing Shift+Enter) will list all files under the input directory\n",
        "\n",
        "import os\n",
        "for dirname, _, filenames in os.walk('/kaggle/input'):\n",
        "    for filename in filenames:\n",
        "        print(os.path.join(dirname, filename))\n",
        "\n",
        "# You can write up to 20GB to the current directory (/kaggle/working/) that gets preserved as output when you create a version using \"Save & Run All\"\n",
        "# You can also write temporary files to /kaggle/temp/, but they won't be saved outside of the current session"
      ],
      "metadata": {
        "_uuid": "8f2839f25d086af736a60e9eeb907d3b93b6e0e5",
        "_cell_guid": "b1076dfc-b9ad-4769-8c92-a6c4dae69d19",
        "trusted": true,
        "id": "q1joTa7r1TUb"
      },
      "execution_count": null,
      "outputs": []
    },
    {
      "cell_type": "code",
      "source": [
        "import numpy as np\n",
        "import pandas as pd\n",
        "import matplotlib.pyplot as plt\n",
        "import torch\n",
        "import torch.nn as nn\n",
        "import torch.nn.functional as F"
      ],
      "metadata": {
        "trusted": true,
        "id": "fd-3gUB41TUb"
      },
      "execution_count": null,
      "outputs": []
    },
    {
      "cell_type": "code",
      "source": [
        "df=pd.read_csv(\"/content/perceptron_sampledata.csv\")"
      ],
      "metadata": {
        "trusted": true,
        "id": "kqGuAqAu1TUb"
      },
      "execution_count": null,
      "outputs": []
    },
    {
      "cell_type": "code",
      "source": [
        "df.head()"
      ],
      "metadata": {
        "trusted": true,
        "id": "cNOLhKdx1TUc",
        "outputId": "9d1b3dc4-182a-406a-b6b8-ea4254e9b838",
        "colab": {
          "base_uri": "https://localhost:8080/",
          "height": 206
        }
      },
      "execution_count": null,
      "outputs": [
        {
          "output_type": "execute_result",
          "data": {
            "text/plain": [
              "     x1    x2  label\n",
              "0  0.77 -1.14      0\n",
              "1 -0.33  1.44      0\n",
              "2  0.91 -3.07      0\n",
              "3 -0.37 -1.91      0\n",
              "4 -0.63 -1.53      0"
            ],
            "text/html": [
              "\n",
              "  <div id=\"df-42d020fe-5fe7-4c50-8cf1-4a46f460fa6c\" class=\"colab-df-container\">\n",
              "    <div>\n",
              "<style scoped>\n",
              "    .dataframe tbody tr th:only-of-type {\n",
              "        vertical-align: middle;\n",
              "    }\n",
              "\n",
              "    .dataframe tbody tr th {\n",
              "        vertical-align: top;\n",
              "    }\n",
              "\n",
              "    .dataframe thead th {\n",
              "        text-align: right;\n",
              "    }\n",
              "</style>\n",
              "<table border=\"1\" class=\"dataframe\">\n",
              "  <thead>\n",
              "    <tr style=\"text-align: right;\">\n",
              "      <th></th>\n",
              "      <th>x1</th>\n",
              "      <th>x2</th>\n",
              "      <th>label</th>\n",
              "    </tr>\n",
              "  </thead>\n",
              "  <tbody>\n",
              "    <tr>\n",
              "      <th>0</th>\n",
              "      <td>0.77</td>\n",
              "      <td>-1.14</td>\n",
              "      <td>0</td>\n",
              "    </tr>\n",
              "    <tr>\n",
              "      <th>1</th>\n",
              "      <td>-0.33</td>\n",
              "      <td>1.44</td>\n",
              "      <td>0</td>\n",
              "    </tr>\n",
              "    <tr>\n",
              "      <th>2</th>\n",
              "      <td>0.91</td>\n",
              "      <td>-3.07</td>\n",
              "      <td>0</td>\n",
              "    </tr>\n",
              "    <tr>\n",
              "      <th>3</th>\n",
              "      <td>-0.37</td>\n",
              "      <td>-1.91</td>\n",
              "      <td>0</td>\n",
              "    </tr>\n",
              "    <tr>\n",
              "      <th>4</th>\n",
              "      <td>-0.63</td>\n",
              "      <td>-1.53</td>\n",
              "      <td>0</td>\n",
              "    </tr>\n",
              "  </tbody>\n",
              "</table>\n",
              "</div>\n",
              "    <div class=\"colab-df-buttons\">\n",
              "\n",
              "  <div class=\"colab-df-container\">\n",
              "    <button class=\"colab-df-convert\" onclick=\"convertToInteractive('df-42d020fe-5fe7-4c50-8cf1-4a46f460fa6c')\"\n",
              "            title=\"Convert this dataframe to an interactive table.\"\n",
              "            style=\"display:none;\">\n",
              "\n",
              "  <svg xmlns=\"http://www.w3.org/2000/svg\" height=\"24px\" viewBox=\"0 -960 960 960\">\n",
              "    <path d=\"M120-120v-720h720v720H120Zm60-500h600v-160H180v160Zm220 220h160v-160H400v160Zm0 220h160v-160H400v160ZM180-400h160v-160H180v160Zm440 0h160v-160H620v160ZM180-180h160v-160H180v160Zm440 0h160v-160H620v160Z\"/>\n",
              "  </svg>\n",
              "    </button>\n",
              "\n",
              "  <style>\n",
              "    .colab-df-container {\n",
              "      display:flex;\n",
              "      gap: 12px;\n",
              "    }\n",
              "\n",
              "    .colab-df-convert {\n",
              "      background-color: #E8F0FE;\n",
              "      border: none;\n",
              "      border-radius: 50%;\n",
              "      cursor: pointer;\n",
              "      display: none;\n",
              "      fill: #1967D2;\n",
              "      height: 32px;\n",
              "      padding: 0 0 0 0;\n",
              "      width: 32px;\n",
              "    }\n",
              "\n",
              "    .colab-df-convert:hover {\n",
              "      background-color: #E2EBFA;\n",
              "      box-shadow: 0px 1px 2px rgba(60, 64, 67, 0.3), 0px 1px 3px 1px rgba(60, 64, 67, 0.15);\n",
              "      fill: #174EA6;\n",
              "    }\n",
              "\n",
              "    .colab-df-buttons div {\n",
              "      margin-bottom: 4px;\n",
              "    }\n",
              "\n",
              "    [theme=dark] .colab-df-convert {\n",
              "      background-color: #3B4455;\n",
              "      fill: #D2E3FC;\n",
              "    }\n",
              "\n",
              "    [theme=dark] .colab-df-convert:hover {\n",
              "      background-color: #434B5C;\n",
              "      box-shadow: 0px 1px 3px 1px rgba(0, 0, 0, 0.15);\n",
              "      filter: drop-shadow(0px 1px 2px rgba(0, 0, 0, 0.3));\n",
              "      fill: #FFFFFF;\n",
              "    }\n",
              "  </style>\n",
              "\n",
              "    <script>\n",
              "      const buttonEl =\n",
              "        document.querySelector('#df-42d020fe-5fe7-4c50-8cf1-4a46f460fa6c button.colab-df-convert');\n",
              "      buttonEl.style.display =\n",
              "        google.colab.kernel.accessAllowed ? 'block' : 'none';\n",
              "\n",
              "      async function convertToInteractive(key) {\n",
              "        const element = document.querySelector('#df-42d020fe-5fe7-4c50-8cf1-4a46f460fa6c');\n",
              "        const dataTable =\n",
              "          await google.colab.kernel.invokeFunction('convertToInteractive',\n",
              "                                                    [key], {});\n",
              "        if (!dataTable) return;\n",
              "\n",
              "        const docLinkHtml = 'Like what you see? Visit the ' +\n",
              "          '<a target=\"_blank\" href=https://colab.research.google.com/notebooks/data_table.ipynb>data table notebook</a>'\n",
              "          + ' to learn more about interactive tables.';\n",
              "        element.innerHTML = '';\n",
              "        dataTable['output_type'] = 'display_data';\n",
              "        await google.colab.output.renderOutput(dataTable, element);\n",
              "        const docLink = document.createElement('div');\n",
              "        docLink.innerHTML = docLinkHtml;\n",
              "        element.appendChild(docLink);\n",
              "      }\n",
              "    </script>\n",
              "  </div>\n",
              "\n",
              "\n",
              "<div id=\"df-70fa222c-c2d2-486c-b825-535e41febb09\">\n",
              "  <button class=\"colab-df-quickchart\" onclick=\"quickchart('df-70fa222c-c2d2-486c-b825-535e41febb09')\"\n",
              "            title=\"Suggest charts\"\n",
              "            style=\"display:none;\">\n",
              "\n",
              "<svg xmlns=\"http://www.w3.org/2000/svg\" height=\"24px\"viewBox=\"0 0 24 24\"\n",
              "     width=\"24px\">\n",
              "    <g>\n",
              "        <path d=\"M19 3H5c-1.1 0-2 .9-2 2v14c0 1.1.9 2 2 2h14c1.1 0 2-.9 2-2V5c0-1.1-.9-2-2-2zM9 17H7v-7h2v7zm4 0h-2V7h2v10zm4 0h-2v-4h2v4z\"/>\n",
              "    </g>\n",
              "</svg>\n",
              "  </button>\n",
              "\n",
              "<style>\n",
              "  .colab-df-quickchart {\n",
              "      --bg-color: #E8F0FE;\n",
              "      --fill-color: #1967D2;\n",
              "      --hover-bg-color: #E2EBFA;\n",
              "      --hover-fill-color: #174EA6;\n",
              "      --disabled-fill-color: #AAA;\n",
              "      --disabled-bg-color: #DDD;\n",
              "  }\n",
              "\n",
              "  [theme=dark] .colab-df-quickchart {\n",
              "      --bg-color: #3B4455;\n",
              "      --fill-color: #D2E3FC;\n",
              "      --hover-bg-color: #434B5C;\n",
              "      --hover-fill-color: #FFFFFF;\n",
              "      --disabled-bg-color: #3B4455;\n",
              "      --disabled-fill-color: #666;\n",
              "  }\n",
              "\n",
              "  .colab-df-quickchart {\n",
              "    background-color: var(--bg-color);\n",
              "    border: none;\n",
              "    border-radius: 50%;\n",
              "    cursor: pointer;\n",
              "    display: none;\n",
              "    fill: var(--fill-color);\n",
              "    height: 32px;\n",
              "    padding: 0;\n",
              "    width: 32px;\n",
              "  }\n",
              "\n",
              "  .colab-df-quickchart:hover {\n",
              "    background-color: var(--hover-bg-color);\n",
              "    box-shadow: 0 1px 2px rgba(60, 64, 67, 0.3), 0 1px 3px 1px rgba(60, 64, 67, 0.15);\n",
              "    fill: var(--button-hover-fill-color);\n",
              "  }\n",
              "\n",
              "  .colab-df-quickchart-complete:disabled,\n",
              "  .colab-df-quickchart-complete:disabled:hover {\n",
              "    background-color: var(--disabled-bg-color);\n",
              "    fill: var(--disabled-fill-color);\n",
              "    box-shadow: none;\n",
              "  }\n",
              "\n",
              "  .colab-df-spinner {\n",
              "    border: 2px solid var(--fill-color);\n",
              "    border-color: transparent;\n",
              "    border-bottom-color: var(--fill-color);\n",
              "    animation:\n",
              "      spin 1s steps(1) infinite;\n",
              "  }\n",
              "\n",
              "  @keyframes spin {\n",
              "    0% {\n",
              "      border-color: transparent;\n",
              "      border-bottom-color: var(--fill-color);\n",
              "      border-left-color: var(--fill-color);\n",
              "    }\n",
              "    20% {\n",
              "      border-color: transparent;\n",
              "      border-left-color: var(--fill-color);\n",
              "      border-top-color: var(--fill-color);\n",
              "    }\n",
              "    30% {\n",
              "      border-color: transparent;\n",
              "      border-left-color: var(--fill-color);\n",
              "      border-top-color: var(--fill-color);\n",
              "      border-right-color: var(--fill-color);\n",
              "    }\n",
              "    40% {\n",
              "      border-color: transparent;\n",
              "      border-right-color: var(--fill-color);\n",
              "      border-top-color: var(--fill-color);\n",
              "    }\n",
              "    60% {\n",
              "      border-color: transparent;\n",
              "      border-right-color: var(--fill-color);\n",
              "    }\n",
              "    80% {\n",
              "      border-color: transparent;\n",
              "      border-right-color: var(--fill-color);\n",
              "      border-bottom-color: var(--fill-color);\n",
              "    }\n",
              "    90% {\n",
              "      border-color: transparent;\n",
              "      border-bottom-color: var(--fill-color);\n",
              "    }\n",
              "  }\n",
              "</style>\n",
              "\n",
              "  <script>\n",
              "    async function quickchart(key) {\n",
              "      const quickchartButtonEl =\n",
              "        document.querySelector('#' + key + ' button');\n",
              "      quickchartButtonEl.disabled = true;  // To prevent multiple clicks.\n",
              "      quickchartButtonEl.classList.add('colab-df-spinner');\n",
              "      try {\n",
              "        const charts = await google.colab.kernel.invokeFunction(\n",
              "            'suggestCharts', [key], {});\n",
              "      } catch (error) {\n",
              "        console.error('Error during call to suggestCharts:', error);\n",
              "      }\n",
              "      quickchartButtonEl.classList.remove('colab-df-spinner');\n",
              "      quickchartButtonEl.classList.add('colab-df-quickchart-complete');\n",
              "    }\n",
              "    (() => {\n",
              "      let quickchartButtonEl =\n",
              "        document.querySelector('#df-70fa222c-c2d2-486c-b825-535e41febb09 button');\n",
              "      quickchartButtonEl.style.display =\n",
              "        google.colab.kernel.accessAllowed ? 'block' : 'none';\n",
              "    })();\n",
              "  </script>\n",
              "</div>\n",
              "    </div>\n",
              "  </div>\n"
            ]
          },
          "metadata": {},
          "execution_count": 7
        }
      ]
    },
    {
      "cell_type": "code",
      "source": [
        "x=df.drop('label',axis=1).values\n",
        "y=df['label'].values"
      ],
      "metadata": {
        "trusted": true,
        "id": "ZAuxdbXO1TUc"
      },
      "execution_count": null,
      "outputs": []
    },
    {
      "cell_type": "code",
      "source": [
        "x"
      ],
      "metadata": {
        "trusted": true,
        "id": "a3AgkNz31TUc",
        "outputId": "bb08fd73-c3a9-4fa2-81a8-dfc261ed397c",
        "colab": {
          "base_uri": "https://localhost:8080/"
        }
      },
      "execution_count": null,
      "outputs": [
        {
          "output_type": "execute_result",
          "data": {
            "text/plain": [
              "array([[ 0.77, -1.14],\n",
              "       [-0.33,  1.44],\n",
              "       [ 0.91, -3.07],\n",
              "       [-0.37, -1.91],\n",
              "       [-0.63, -1.53],\n",
              "       [ 0.39, -1.99],\n",
              "       [-0.49, -2.74],\n",
              "       [-0.68, -1.52],\n",
              "       [-0.1 , -3.43],\n",
              "       [-0.05, -1.95],\n",
              "       [ 3.88,  0.65],\n",
              "       [ 0.73,  2.97],\n",
              "       [ 0.83,  3.94],\n",
              "       [ 1.59,  1.25],\n",
              "       [ 1.14,  3.91],\n",
              "       [ 1.73,  2.8 ],\n",
              "       [ 1.31,  1.85],\n",
              "       [ 1.56,  3.85],\n",
              "       [ 1.23,  2.54],\n",
              "       [ 1.33,  2.03]])"
            ]
          },
          "metadata": {},
          "execution_count": 9
        }
      ]
    },
    {
      "cell_type": "code",
      "source": [
        "y"
      ],
      "metadata": {
        "trusted": true,
        "id": "lJ2XhJAb1TUc",
        "outputId": "0109ef83-f4ef-42ff-9f7d-01bb165ffefe",
        "colab": {
          "base_uri": "https://localhost:8080/"
        }
      },
      "execution_count": null,
      "outputs": [
        {
          "output_type": "execute_result",
          "data": {
            "text/plain": [
              "array([0, 0, 0, 0, 0, 0, 0, 0, 0, 0, 1, 1, 1, 1, 1, 1, 1, 1, 1, 1])"
            ]
          },
          "metadata": {},
          "execution_count": 10
        }
      ]
    },
    {
      "cell_type": "code",
      "source": [
        "from sklearn.model_selection import train_test_split\n",
        "X_train,X_test,y_train,y_test=train_test_split(x,y,test_size=0.2,random_state=0)"
      ],
      "metadata": {
        "trusted": true,
        "id": "aZpMu4c01TUc"
      },
      "execution_count": null,
      "outputs": []
    },
    {
      "cell_type": "code",
      "source": [
        "X_train=torch.FloatTensor(X_train)\n",
        "X_test=torch.FloatTensor(X_test)\n",
        "y_train=torch.LongTensor(y_train)\n",
        "y_test=torch.LongTensor(y_test)"
      ],
      "metadata": {
        "trusted": true,
        "id": "Uq8NF7Uh1TUc"
      },
      "execution_count": null,
      "outputs": []
    },
    {
      "cell_type": "code",
      "source": [
        "class ANN_Model(nn.Module):\n",
        "    def __init__(self,input_features=2,hidden1=2,hidden2=2,out_features=2):\n",
        "        super().__init__()\n",
        "        self.layer1=nn.Linear(input_features, hidden1)\n",
        "        self.layer2=nn.Linear(hidden1, hidden2)\n",
        "        self.out=nn.Linear(hidden2, out_features)\n",
        "    def forward(self,x):\n",
        "        x=F.tanh(self.layer1(x))\n",
        "        x=F.tanh(self.layer2(x))\n",
        "        x=self.out(x)\n",
        "        return x"
      ],
      "metadata": {
        "trusted": true,
        "id": "cIIsIln11TUc"
      },
      "execution_count": null,
      "outputs": []
    },
    {
      "cell_type": "code",
      "source": [
        "torch.manual_seed(3)\n",
        "model=ANN_Model()"
      ],
      "metadata": {
        "trusted": true,
        "id": "bVNJE-_M1TUc"
      },
      "execution_count": null,
      "outputs": []
    },
    {
      "cell_type": "code",
      "source": [
        "model.parameters"
      ],
      "metadata": {
        "trusted": true,
        "id": "TfUCsLyG1TUd",
        "outputId": "673a0a0e-855c-4c27-8afa-3d1ab0ef397b",
        "colab": {
          "base_uri": "https://localhost:8080/"
        }
      },
      "execution_count": null,
      "outputs": [
        {
          "output_type": "execute_result",
          "data": {
            "text/plain": [
              "<bound method Module.parameters of ANN_Model(\n",
              "  (layer1): Linear(in_features=2, out_features=2, bias=True)\n",
              "  (layer2): Linear(in_features=2, out_features=2, bias=True)\n",
              "  (out): Linear(in_features=2, out_features=2, bias=True)\n",
              ")>"
            ]
          },
          "metadata": {},
          "execution_count": 15
        }
      ]
    },
    {
      "cell_type": "code",
      "source": [
        "loss_funtion=nn.CrossEntropyLoss()\n",
        "optimizer=torch.optim.ASGD(model.parameters(),lr=0.01)"
      ],
      "metadata": {
        "trusted": true,
        "id": "d5sR-moS1TUd"
      },
      "execution_count": null,
      "outputs": []
    },
    {
      "cell_type": "code",
      "source": [
        "epochs=200\n",
        "final_losses=[]\n",
        "for i in range(epochs):\n",
        "    i=i+1\n",
        "    y_pred=model.forward(X_train)\n",
        "    loss=loss_funtion(y_pred,y_train)\n",
        "    final_losses.append(loss.item())\n",
        "    print(\"Epoch: {} and the loss : {}\".format(i,loss.item()))\n",
        "    optimizer.zero_grad()\n",
        "    loss.backward()\n",
        "    optimizer.step()"
      ],
      "metadata": {
        "trusted": true,
        "id": "xiEFOR871TUd",
        "outputId": "0962a57e-f6b3-41b8-e641-a3a1172e2614",
        "colab": {
          "base_uri": "https://localhost:8080/"
        }
      },
      "execution_count": null,
      "outputs": [
        {
          "output_type": "stream",
          "name": "stdout",
          "text": [
            "Epoch: 1 and the loss : 0.8289973139762878\n",
            "Epoch: 2 and the loss : 0.8251489996910095\n",
            "Epoch: 3 and the loss : 0.8213186860084534\n",
            "Epoch: 4 and the loss : 0.8175064325332642\n",
            "Epoch: 5 and the loss : 0.8137116432189941\n",
            "Epoch: 6 and the loss : 0.8099340200424194\n",
            "Epoch: 7 and the loss : 0.8061732649803162\n",
            "Epoch: 8 and the loss : 0.8024289011955261\n",
            "Epoch: 9 and the loss : 0.7987009882926941\n",
            "Epoch: 10 and the loss : 0.7949889302253723\n",
            "Epoch: 11 and the loss : 0.791292667388916\n",
            "Epoch: 12 and the loss : 0.7876115441322327\n",
            "Epoch: 13 and the loss : 0.7839456796646118\n",
            "Epoch: 14 and the loss : 0.7802945971488953\n",
            "Epoch: 15 and the loss : 0.7766581773757935\n",
            "Epoch: 16 and the loss : 0.7730358839035034\n",
            "Epoch: 17 and the loss : 0.7694277763366699\n",
            "Epoch: 18 and the loss : 0.7658333778381348\n",
            "Epoch: 19 and the loss : 0.7622524499893188\n",
            "Epoch: 20 and the loss : 0.7586849927902222\n",
            "Epoch: 21 and the loss : 0.7551306486129761\n",
            "Epoch: 22 and the loss : 0.7515890598297119\n",
            "Epoch: 23 and the loss : 0.7480601668357849\n",
            "Epoch: 24 and the loss : 0.744543731212616\n",
            "Epoch: 25 and the loss : 0.7410394549369812\n",
            "Epoch: 26 and the loss : 0.7375473380088806\n",
            "Epoch: 27 and the loss : 0.7340672016143799\n",
            "Epoch: 28 and the loss : 0.7305984497070312\n",
            "Epoch: 29 and the loss : 0.7271413207054138\n",
            "Epoch: 30 and the loss : 0.7236955761909485\n",
            "Epoch: 31 and the loss : 0.7202608585357666\n",
            "Epoch: 32 and the loss : 0.7168372869491577\n",
            "Epoch: 33 and the loss : 0.7134244441986084\n",
            "Epoch: 34 and the loss : 0.7100223898887634\n",
            "Epoch: 35 and the loss : 0.7066308856010437\n",
            "Epoch: 36 and the loss : 0.7032497525215149\n",
            "Epoch: 37 and the loss : 0.6998790502548218\n",
            "Epoch: 38 and the loss : 0.6965183615684509\n",
            "Epoch: 39 and the loss : 0.6931677460670471\n",
            "Epoch: 40 and the loss : 0.6898270845413208\n",
            "Epoch: 41 and the loss : 0.6864962577819824\n",
            "Epoch: 42 and the loss : 0.6831753253936768\n",
            "Epoch: 43 and the loss : 0.6798638701438904\n",
            "Epoch: 44 and the loss : 0.6765620112419128\n",
            "Epoch: 45 and the loss : 0.6732696294784546\n",
            "Epoch: 46 and the loss : 0.6699866652488708\n",
            "Epoch: 47 and the loss : 0.6667129397392273\n",
            "Epoch: 48 and the loss : 0.6634486317634583\n",
            "Epoch: 49 and the loss : 0.6601934432983398\n",
            "Epoch: 50 and the loss : 0.6569473147392273\n",
            "Epoch: 51 and the loss : 0.6537103652954102\n",
            "Epoch: 52 and the loss : 0.6504824161529541\n",
            "Epoch: 53 and the loss : 0.6472635269165039\n",
            "Epoch: 54 and the loss : 0.6440534591674805\n",
            "Epoch: 55 and the loss : 0.6408523917198181\n",
            "Epoch: 56 and the loss : 0.6376602649688721\n",
            "Epoch: 57 and the loss : 0.634476900100708\n",
            "Epoch: 58 and the loss : 0.6313024759292603\n",
            "Epoch: 59 and the loss : 0.628136932849884\n",
            "Epoch: 60 and the loss : 0.624980092048645\n",
            "Epoch: 61 and the loss : 0.6218321323394775\n",
            "Epoch: 62 and the loss : 0.6186930537223816\n",
            "Epoch: 63 and the loss : 0.6155627369880676\n",
            "Epoch: 64 and the loss : 0.6124411225318909\n",
            "Epoch: 65 and the loss : 0.60932856798172\n",
            "Epoch: 66 and the loss : 0.606224775314331\n",
            "Epoch: 67 and the loss : 0.6031298041343689\n",
            "Epoch: 68 and the loss : 0.6000437140464783\n",
            "Epoch: 69 and the loss : 0.596966564655304\n",
            "Epoch: 70 and the loss : 0.593898355960846\n",
            "Epoch: 71 and the loss : 0.5908390283584595\n",
            "Epoch: 72 and the loss : 0.5877888202667236\n",
            "Epoch: 73 and the loss : 0.5847475528717041\n",
            "Epoch: 74 and the loss : 0.5817153453826904\n",
            "Epoch: 75 and the loss : 0.5786921977996826\n",
            "Epoch: 76 and the loss : 0.5756783485412598\n",
            "Epoch: 77 and the loss : 0.5726734399795532\n",
            "Epoch: 78 and the loss : 0.5696778893470764\n",
            "Epoch: 79 and the loss : 0.5666917562484741\n",
            "Epoch: 80 and the loss : 0.563714861869812\n",
            "Epoch: 81 and the loss : 0.5607472658157349\n",
            "Epoch: 82 and the loss : 0.557789146900177\n",
            "Epoch: 83 and the loss : 0.554840624332428\n",
            "Epoch: 84 and the loss : 0.5519015192985535\n",
            "Epoch: 85 and the loss : 0.5489721298217773\n",
            "Epoch: 86 and the loss : 0.5460523366928101\n",
            "Epoch: 87 and the loss : 0.5431423187255859\n",
            "Epoch: 88 and the loss : 0.540242075920105\n",
            "Epoch: 89 and the loss : 0.5373517274856567\n",
            "Epoch: 90 and the loss : 0.534471333026886\n",
            "Epoch: 91 and the loss : 0.5316007733345032\n",
            "Epoch: 92 and the loss : 0.528740406036377\n",
            "Epoch: 93 and the loss : 0.5258901119232178\n",
            "Epoch: 94 and the loss : 0.5230500102043152\n",
            "Epoch: 95 and the loss : 0.5202202796936035\n",
            "Epoch: 96 and the loss : 0.5174006223678589\n",
            "Epoch: 97 and the loss : 0.5145915150642395\n",
            "Epoch: 98 and the loss : 0.5117928385734558\n",
            "Epoch: 99 and the loss : 0.5090046525001526\n",
            "Epoch: 100 and the loss : 0.5062270760536194\n",
            "Epoch: 101 and the loss : 0.5034602284431458\n",
            "Epoch: 102 and the loss : 0.5007040500640869\n",
            "Epoch: 103 and the loss : 0.4979586899280548\n",
            "Epoch: 104 and the loss : 0.4952241778373718\n",
            "Epoch: 105 and the loss : 0.4925006330013275\n",
            "Epoch: 106 and the loss : 0.4897880554199219\n",
            "Epoch: 107 and the loss : 0.48708653450012207\n",
            "Epoch: 108 and the loss : 0.48439618945121765\n",
            "Epoch: 109 and the loss : 0.48171699047088623\n",
            "Epoch: 110 and the loss : 0.47904908657073975\n",
            "Epoch: 111 and the loss : 0.4763924479484558\n",
            "Epoch: 112 and the loss : 0.4737471640110016\n",
            "Epoch: 113 and the loss : 0.4711133539676666\n",
            "Epoch: 114 and the loss : 0.4684910178184509\n",
            "Epoch: 115 and the loss : 0.46588021516799927\n",
            "Epoch: 116 and the loss : 0.46328097581863403\n",
            "Epoch: 117 and the loss : 0.4606934189796448\n",
            "Epoch: 118 and the loss : 0.45811763405799866\n",
            "Epoch: 119 and the loss : 0.4555535614490509\n",
            "Epoch: 120 and the loss : 0.45300135016441345\n",
            "Epoch: 121 and the loss : 0.45046094059944153\n",
            "Epoch: 122 and the loss : 0.44793251156806946\n",
            "Epoch: 123 and the loss : 0.4454159438610077\n",
            "Epoch: 124 and the loss : 0.4429115355014801\n",
            "Epoch: 125 and the loss : 0.44041907787323\n",
            "Epoch: 126 and the loss : 0.43793874979019165\n",
            "Epoch: 127 and the loss : 0.43547049164772034\n",
            "Epoch: 128 and the loss : 0.433014452457428\n",
            "Epoch: 129 and the loss : 0.4305706024169922\n",
            "Epoch: 130 and the loss : 0.42813894152641296\n",
            "Epoch: 131 and the loss : 0.42571958899497986\n",
            "Epoch: 132 and the loss : 0.4233125150203705\n",
            "Epoch: 133 and the loss : 0.4209178388118744\n",
            "Epoch: 134 and the loss : 0.4185355007648468\n",
            "Epoch: 135 and the loss : 0.4161655902862549\n",
            "Epoch: 136 and the loss : 0.41380807757377625\n",
            "Epoch: 137 and the loss : 0.4114629328250885\n",
            "Epoch: 138 and the loss : 0.409130334854126\n",
            "Epoch: 139 and the loss : 0.40681013464927673\n",
            "Epoch: 140 and the loss : 0.4045024812221527\n",
            "Epoch: 141 and the loss : 0.40220728516578674\n",
            "Epoch: 142 and the loss : 0.399924635887146\n",
            "Epoch: 143 and the loss : 0.39765456318855286\n",
            "Epoch: 144 and the loss : 0.39539697766304016\n",
            "Epoch: 145 and the loss : 0.3931519687175751\n",
            "Epoch: 146 and the loss : 0.39091956615448\n",
            "Epoch: 147 and the loss : 0.38869965076446533\n",
            "Epoch: 148 and the loss : 0.3864923417568207\n",
            "Epoch: 149 and the loss : 0.38429760932922363\n",
            "Epoch: 150 and the loss : 0.3821154236793518\n",
            "Epoch: 151 and the loss : 0.37994584441185\n",
            "Epoch: 152 and the loss : 0.37778884172439575\n",
            "Epoch: 153 and the loss : 0.37564438581466675\n",
            "Epoch: 154 and the loss : 0.37351247668266296\n",
            "Epoch: 155 and the loss : 0.3713931143283844\n",
            "Epoch: 156 and the loss : 0.3692862391471863\n",
            "Epoch: 157 and the loss : 0.36719197034835815\n",
            "Epoch: 158 and the loss : 0.36511021852493286\n",
            "Epoch: 159 and the loss : 0.3630409240722656\n",
            "Epoch: 160 and the loss : 0.36098411679267883\n",
            "Epoch: 161 and the loss : 0.3589397966861725\n",
            "Epoch: 162 and the loss : 0.3569079339504242\n",
            "Epoch: 163 and the loss : 0.3548884391784668\n",
            "Epoch: 164 and the loss : 0.35288143157958984\n",
            "Epoch: 165 and the loss : 0.3508867621421814\n",
            "Epoch: 166 and the loss : 0.34890446066856384\n",
            "Epoch: 167 and the loss : 0.3469345271587372\n",
            "Epoch: 168 and the loss : 0.34497684240341187\n",
            "Epoch: 169 and the loss : 0.3430314362049103\n",
            "Epoch: 170 and the loss : 0.3410983085632324\n",
            "Epoch: 171 and the loss : 0.33917734026908875\n",
            "Epoch: 172 and the loss : 0.3372686207294464\n",
            "Epoch: 173 and the loss : 0.33537203073501587\n",
            "Epoch: 174 and the loss : 0.3334875702857971\n",
            "Epoch: 175 and the loss : 0.3316151797771454\n",
            "Epoch: 176 and the loss : 0.32975485920906067\n",
            "Epoch: 177 and the loss : 0.32790645956993103\n",
            "Epoch: 178 and the loss : 0.3260701298713684\n",
            "Epoch: 179 and the loss : 0.3242456614971161\n",
            "Epoch: 180 and the loss : 0.32243311405181885\n",
            "Epoch: 181 and the loss : 0.3206324279308319\n",
            "Epoch: 182 and the loss : 0.3188435733318329\n",
            "Epoch: 183 and the loss : 0.3170664310455322\n",
            "Epoch: 184 and the loss : 0.3153010308742523\n",
            "Epoch: 185 and the loss : 0.313547283411026\n",
            "Epoch: 186 and the loss : 0.3118051290512085\n",
            "Epoch: 187 and the loss : 0.3100745975971222\n",
            "Epoch: 188 and the loss : 0.30835556983947754\n",
            "Epoch: 189 and the loss : 0.30664801597595215\n",
            "Epoch: 190 and the loss : 0.304951936006546\n",
            "Epoch: 191 and the loss : 0.3032671809196472\n",
            "Epoch: 192 and the loss : 0.3015938401222229\n",
            "Epoch: 193 and the loss : 0.29993173480033875\n",
            "Epoch: 194 and the loss : 0.29828083515167236\n",
            "Epoch: 195 and the loss : 0.29664114117622375\n",
            "Epoch: 196 and the loss : 0.29501256346702576\n",
            "Epoch: 197 and the loss : 0.29339510202407837\n",
            "Epoch: 198 and the loss : 0.29178860783576965\n",
            "Epoch: 199 and the loss : 0.2901930809020996\n",
            "Epoch: 200 and the loss : 0.2886084318161011\n"
          ]
        }
      ]
    },
    {
      "cell_type": "code",
      "source": [
        "plt.plot(range(epochs),final_losses)\n",
        "plt.ylabel('Loss')\n",
        "plt.xlabel('Epoch')\n"
      ],
      "metadata": {
        "trusted": true,
        "id": "kEji6cmY1TUd",
        "outputId": "876c0f6e-4a87-4820-d93f-07e228818c9f",
        "colab": {
          "base_uri": "https://localhost:8080/",
          "height": 466
        }
      },
      "execution_count": null,
      "outputs": [
        {
          "output_type": "execute_result",
          "data": {
            "text/plain": [
              "Text(0.5, 0, 'Epoch')"
            ]
          },
          "metadata": {},
          "execution_count": 18
        },
        {
          "output_type": "display_data",
          "data": {
            "text/plain": [
              "<Figure size 640x480 with 1 Axes>"
            ],
            "image/png": "[encoded data removed]"
          },
          "metadata": {}
        }
      ]
    },
    {
      "cell_type": "code",
      "source": [
        "predictions=[]\n",
        "with torch.no_grad():\n",
        "    for i,data in enumerate(X_test):\n",
        "        y_prod=model(data)\n",
        "        predictions.append(y_pred.argmax().item())\n",
        "        print(y_pred.argmax().item())"
      ],
      "metadata": {
        "trusted": true,
        "id": "CsxWSd8J1TUd",
        "outputId": "87243d15-88bc-4184-c215-f0c01587b9ac",
        "colab": {
          "base_uri": "https://localhost:8080/"
        }
      },
      "execution_count": null,
      "outputs": [
        {
          "output_type": "stream",
          "name": "stdout",
          "text": [
            "3\n",
            "3\n",
            "3\n",
            "3\n"
          ]
        }
      ]
    }
  ]
}