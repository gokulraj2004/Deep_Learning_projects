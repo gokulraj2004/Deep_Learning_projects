{
  "nbformat": 4,
  "nbformat_minor": 0,
  "metadata": {
    "colab": {
      "provenance": [],
      "mount_file_id": "1Gu7rQ50kBC9f5gjQiIX83u4an80kY2NI",
      "authorship_tag": "ABX9TyMa94JDafmUC/q8VU+GLy1V",
      "include_colab_link": true
    },
    "kernelspec": {
      "name": "python3",
      "display_name": "Python 3"
    },
    "language_info": {
      "name": "python"
    }
  },
  "cells": [
    {
      "cell_type": "markdown",
      "metadata": {
        "id": "view-in-github",
        "colab_type": "text"
      },
      "source": [
        "<a href=\"https://colab.research.google.com/github/gokulraj2004/Deep_Learning_projects/blob/main/diabetes_prediction.ipynb\" target=\"_parent\"><img src=\"https://colab.research.google.com/assets/colab-badge.svg\" alt=\"Open In Colab\"/></a>"
      ]
    },
    {
      "cell_type": "code",
      "execution_count": null,
      "metadata": {
        "id": "qBdFdjDjM4hj"
      },
      "outputs": [],
      "source": [
        "hello\n",
        "everyone\n",
        "this\n",
        "is gokulraj"
      ]
    },
    {
      "cell_type": "code",
      "source": [
        "print(\"hello everyone this is gokulraj\")"
      ],
      "metadata": {
        "colab": {
          "base_uri": "https://localhost:8080/"
        },
        "id": "L49ix8HoNvND",
        "outputId": "e294794c-55c5-416a-829e-38b98c6c446c"
      },
      "execution_count": null,
      "outputs": [
        {
          "output_type": "stream",
          "name": "stdout",
          "text": [
            "hello everyonem this is gokulraj\n"
          ]
        }
      ]
    }
  ]
}